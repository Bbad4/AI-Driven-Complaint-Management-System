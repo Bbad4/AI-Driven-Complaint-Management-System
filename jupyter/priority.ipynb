{
 "cells": [
  {
   "cell_type": "code",
   "execution_count": null,
   "id": "b1f7560d",
   "metadata": {},
   "outputs": [],
   "source": [
    "pip install mysqlclient mysql-connector-python pymysql SQLAlchemy pandas nltk numpy"
   ]
  },
  {
   "cell_type": "code",
   "execution_count": null,
   "id": "dc161058",
   "metadata": {},
   "outputs": [],
   "source": [
    "import mysql.connector as sql\n",
    "import pandas as pd\n",
    "\n",
    "db_connection = sql.connect(host='localhost', database='cms', user='root', password='')\n",
    "db_cursor = db_connection.cursor()\n",
    "db_cursor.execute('SELECT * FROM tblcomplaints')\n",
    "\n",
    "table_rows = db_cursor.fetchall()\n",
    "\n",
    "df = pd.DataFrame(table_rows)"
   ]
  },
  {
   "cell_type": "code",
   "execution_count": null,
   "id": "cbbb76af",
   "metadata": {},
   "outputs": [],
   "source": [
    "from sqlalchemy import create_engine\n",
    "import pymysql\n",
    "\n",
    "db_connection_str = 'mysql+pymysql://root:@localhost/cms'\n",
    "db_connection = create_engine(db_connection_str)\n",
    "\n",
    "df = pd.read_sql('SELECT * FROM tblcomplaints', con=db_connection)"
   ]
  },
  {
   "cell_type": "code",
   "execution_count": null,
   "id": "f8812268",
   "metadata": {},
   "outputs": [],
   "source": [
    "df['days_compound'] = df.apply(lambda row: ((row.noc/10)*-1)+1, axis=1)"
   ]
  },
  {
   "cell_type": "code",
   "execution_count": null,
   "id": "e211d102",
   "metadata": {},
   "outputs": [],
   "source": [
    "import nltk\n",
    "from nltk.sentiment.vader import SentimentIntensityAnalyzer\n",
    "\n",
    "sid = SentimentIntensityAnalyzer()\n",
    "df['score2'] = df['complaintDetails'].apply(lambda review: sid.polarity_scores(review))"
   ]
  },
  {
   "cell_type": "code",
   "execution_count": null,
   "id": "2302e89d",
   "metadata": {},
   "outputs": [],
   "source": [
    "df['compound']  = df['score2'].apply(lambda score_dict: score_dict['compound'])"
   ]
  },
  {
   "cell_type": "code",
   "execution_count": null,
   "id": "6eb44adc",
   "metadata": {},
   "outputs": [],
   "source": [
    "df['comp_score'] = df['compound'].apply(lambda c: 'pos' if c >=0 else 'neg')"
   ]
  },
  {
   "cell_type": "code",
   "execution_count": null,
   "id": "6d565d77",
   "metadata": {},
   "outputs": [],
   "source": [
    "df['final_compound'] = df.apply(lambda row: row.days_compound + row.compound, axis=1)"
   ]
  },
  {
   "cell_type": "code",
   "execution_count": null,
   "id": "411aa7f5",
   "metadata": {},
   "outputs": [],
   "source": [
    "df = df.sort_values(by ='final_compound' )"
   ]
  },
  {
   "cell_type": "code",
   "execution_count": null,
   "id": "963a15ea",
   "metadata": {},
   "outputs": [],
   "source": [
    "new = df[['complaintNumber', 'userId', 'category','subcategory','complaintType','state','noc','complaintDetails','complaintFile','regDate','status','lastUpdationDate','days_compound','compound','comp_score','final_compound']].copy()"
   ]
  },
  {
   "cell_type": "code",
   "execution_count": null,
   "id": "51b91b57",
   "metadata": {},
   "outputs": [],
   "source": [
    "sqlEngine       = create_engine('mysql+pymysql://root:@localhost/test', pool_recycle=3600)\n",
    "\n",
    "dbConnection    = sqlEngine.connect()\n",
    "tableName=\"abc\"\n",
    "try:\n",
    "\n",
    "    frame           = new.to_sql(tableName, dbConnection, if_exists='replace');\n",
    "\n",
    "except ValueError as vx:\n",
    "\n",
    "    print(vx)\n",
    "\n",
    "except Exception as ex:   \n",
    "\n",
    "    print(ex)\n",
    "\n",
    "else:\n",
    "\n",
    "    print(\"Table %s created successfully.\"%tableName);   \n",
    "\n",
    "finally:\n",
    "\n",
    "    dbConnection.close()"
   ]
  }
 ],
 "metadata": {
  "kernelspec": {
   "display_name": "Python 3 (ipykernel)",
   "language": "python",
   "name": "python3"
  },
  "language_info": {
   "codemirror_mode": {
    "name": "ipython",
    "version": 3
   },
   "file_extension": ".py",
   "mimetype": "text/x-python",
   "name": "python",
   "nbconvert_exporter": "python",
   "pygments_lexer": "ipython3",
   "version": "3.9.7"
  }
 },
 "nbformat": 4,
 "nbformat_minor": 5
}
